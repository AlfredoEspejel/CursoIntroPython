{
 "cells": [
  {
   "cell_type": "markdown",
   "metadata": {},
   "source": [
    "## Manual de la nave\n",
    "\n",
    "Este manual podremos encontar como manejar y controlar nuestra nave espacial"
   ]
  },
  {
   "cell_type": "markdown",
   "metadata": {},
   "source": [
    "Estado de arranque (Ejercisio 2)"
   ]
  },
  {
   "cell_type": "code",
   "execution_count": null,
   "metadata": {},
   "outputs": [],
   "source": [
    "pip install ipywidgets"
   ]
  },
  {
   "cell_type": "code",
   "execution_count": null,
   "metadata": {},
   "outputs": [],
   "source": [
    "import ipywidgets as widgets\n",
    "\n",
    "ignition = widgets.ToggleButton(\n",
    "    value=False, #valor por default al boton\n",
    "    description='Iniciar Launch',#Texto que va en el boton\n",
    "    button_style='success',#Estilo Del boton\n",
    "    tooltip='Engage your Launch',#informacion de nuestro boton\n",
    "    icon='rocket'#icono de nuestro boton\n",
    ")\n",
    "\n",
    "output= widgets.Output()    #\n",
    "                            # mostrar nuestro boton\n",
    "display(ignition, output)   #\n",
    "\n",
    "def on_value_change(change):            # imprimira el \n",
    "    with output:                        # estado de la nave \n",
    "        if change['new'] == True:       #\n",
    "            print(\"Nave Iniciada!\")     #\n",
    "        else:\n",
    "            print(\"Nave Detenida\")\n",
    "\n",
    "\n",
    "ignition.observe(on_value_change,names='value')"
   ]
  },
  {
   "cell_type": "markdown",
   "metadata": {},
   "source": [
    "## Mostrar Graficos (Ejercicio 3)\n",
    "\n",
    "Antes de hacer los bloques de codigo hay que instalar librerias"
   ]
  },
  {
   "cell_type": "code",
   "execution_count": null,
   "metadata": {},
   "outputs": [],
   "source": [
    "!pip install matplotlib \n",
    "!pip install numpy"
   ]
  },
  {
   "cell_type": "markdown",
   "metadata": {},
   "source": [
    "# Niveles de Oxígeno\n",
    "\n",
    "Muestra diez minutos de niveles de oxigeno en tu nave"
   ]
  },
  {
   "cell_type": "code",
   "execution_count": null,
   "metadata": {},
   "outputs": [],
   "source": [
    "import numpy as np\n",
    "import matplotlib.pyplot as plt\n",
    "data =  np.random.default_rng(12345)\n",
    "oxy_nums = data.integers(low=0, high = 10, size =10)\n",
    "\n",
    "plt.bar(range(len(oxy_nums)), oxy_nums)\n",
    "plt.show()"
   ]
  },
  {
   "cell_type": "markdown",
   "metadata": {},
   "source": [
    "# Realizar Calculos(Ejercicio 3)\n",
    "\n",
    "Las operaciones son las mismas que en la vida cotidiana"
   ]
  },
  {
   "cell_type": "markdown",
   "metadata": {},
   "source": [
    "# Velocidad de la nave\n",
    "\n",
    "Muestra los segundos necesarios para pasar de 0 a 11200 metros por segundo, dada la aceleración de la nave en metros por segundo."
   ]
  },
  {
   "cell_type": "code",
   "execution_count": 36,
   "metadata": {},
   "outputs": [
    {
     "name": "stdout",
     "output_type": "stream",
     "text": [
      "El tiempo para alcanzar la valocidad deseada =  1142.8571428571427\n"
     ]
    }
   ],
   "source": [
    "endVelocity= 11200\n",
    "startVelocity=0\n",
    "acceleration= 9.8\n",
    "# formula t= (Vf - Vi) / a \n",
    "time= (endVelocity - startVelocity)/acceleration\n",
    "print(\"El tiempo para alcanzar la valocidad deseada = \", time)"
   ]
  }
 ],
 "metadata": {
  "interpreter": {
   "hash": "5e05645e5b95aadf8ccdebaa173ae7f93b53f4a768332a922fc63cae2b0b00a0"
  },
  "kernelspec": {
   "display_name": "Python 3.10.2 64-bit",
   "language": "python",
   "name": "python3"
  },
  "language_info": {
   "codemirror_mode": {
    "name": "ipython",
    "version": 3
   },
   "file_extension": ".py",
   "mimetype": "text/x-python",
   "name": "python",
   "nbconvert_exporter": "python",
   "pygments_lexer": "ipython3",
   "version": "3.10.2"
  },
  "orig_nbformat": 4
 },
 "nbformat": 4,
 "nbformat_minor": 2
}
